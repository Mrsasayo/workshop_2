{
 "cells": [
  {
   "cell_type": "code",
   "execution_count": 76,
   "metadata": {},
   "outputs": [],
   "source": [
    "                             \n",
    "import os\n",
    "import pandas as pd\n",
    "from sqlalchemy import create_engine, text\n",
    "                                      \n",
    "from sqlalchemy import Integer, String, Text, TIMESTAMP, Boolean, VARCHAR, Float, BigInteger                     \n",
    "from dotenv import load_dotenv\n",
    "import logging\n",
    "import numpy as np\n",
    "import warnings\n",
    "import time                    \n",
    "from IPython.display import display"
   ]
  },
  {
   "cell_type": "code",
   "execution_count": 77,
   "metadata": {},
   "outputs": [],
   "source": [
    "                                \n",
    "logging.basicConfig(level=logging.INFO, format='%(asctime)s - %(levelname)s - %(message)s')\n",
    "pd.set_option('display.max_rows', 20)\n",
    "pd.set_option('display.max_columns', None)\n",
    "pd.set_option('display.max_colwidth', 100)\n",
    "warnings.filterwarnings('ignore', category=UserWarning, module='pandas')"
   ]
  },
  {
   "cell_type": "code",
   "execution_count": 78,
   "metadata": {},
   "outputs": [
    {
     "name": "stderr",
     "output_type": "stream",
     "text": [
      "2025-04-11 12:12:10,228 - INFO - Cargando variables de entorno...\n",
      "2025-04-11 12:12:10,237 - INFO - Variables de entorno cargadas.\n"
     ]
    }
   ],
   "source": [
    "                                                           \n",
    "logging.info(\"Cargando variables de entorno...\")\n",
    "dotenv_path = '/home/nicolas/Escritorio/workshops/workshop_2/env/.env'                         \n",
    "load_dotenv(dotenv_path=dotenv_path)\n",
    "\n",
    "                                       \n",
    "DB_USER = os.getenv('POSTGRES_USER')\n",
    "DB_PASSWORD = os.getenv('POSTGRES_PASSWORD')\n",
    "DB_HOST = os.getenv('POSTGRES_HOST')\n",
    "DB_PORT = os.getenv('POSTGRES_PORT')\n",
    "DB_NAME = os.getenv('POSTGRES_DB')                          \n",
    "\n",
    "                                    \n",
    "SOURCE_CSV_PATH = '/home/nicolas/Escritorio/workshops/workshop_2/data/youtube_stats.csv'                                           \n",
    "CLEAN_TABLE_NAME = 'youtube_stats_clean'                                           \n",
    "CHUNK_SIZE = 40000                                                           \n",
    "\n",
    "                           \n",
    "if not all([DB_USER, DB_PASSWORD, DB_HOST, DB_PORT, DB_NAME]):\n",
    "    logging.error(\"Faltan variables de entorno para la base de datos en \" + dotenv_path)\n",
    "    raise ValueError(\"Variables de entorno de DB incompletas.\")\n",
    "\n",
    "logging.info(\"Variables de entorno cargadas.\")"
   ]
  },
  {
   "cell_type": "code",
   "execution_count": 79,
   "metadata": {},
   "outputs": [
    {
     "name": "stderr",
     "output_type": "stream",
     "text": [
      "2025-04-11 12:12:10,254 - INFO - Cargando datos de estadísticas de YouTube desde: /home/nicolas/Escritorio/workshops/workshop_2/data/youtube_stats.csv\n",
      "2025-04-11 12:12:10,262 - INFO - Datos cargados exitosamente desde CSV. Filas iniciales: 99\n"
     ]
    }
   ],
   "source": [
    "                                                     \n",
    "df_yt_stats = None\n",
    "logging.info(f\"Cargando datos de estadísticas de YouTube desde: {SOURCE_CSV_PATH}\")\n",
    "try:\n",
    "    df_yt_stats = pd.read_csv(SOURCE_CSV_PATH)\n",
    "    logging.info(f\"Datos cargados exitosamente desde CSV. Filas iniciales: {len(df_yt_stats)}\")\n",
    "except FileNotFoundError:\n",
    "    logging.error(f\"Error: No se encontró el archivo CSV en {SOURCE_CSV_PATH}. Asegúrate de que el script anterior lo haya generado.\")\n",
    "    raise\n",
    "except Exception as e:\n",
    "    logging.error(f\"Error al leer el archivo CSV {SOURCE_CSV_PATH}: {e}\")\n",
    "    raise"
   ]
  },
  {
   "cell_type": "code",
   "execution_count": 80,
   "metadata": {},
   "outputs": [
    {
     "name": "stderr",
     "output_type": "stream",
     "text": [
      "2025-04-11 12:12:10,279 - INFO - Creando copia del DataFrame para limpieza: 'youtube_stats_clean'\n"
     ]
    }
   ],
   "source": [
    "                                       \n",
    "if df_yt_stats is not None:\n",
    "    logging.info(f\"Creando copia del DataFrame para limpieza: '{CLEAN_TABLE_NAME}'\")\n",
    "                                           \n",
    "    youtube_stats_clean = df_yt_stats.copy()\n",
    "else:\n",
    "    logging.error(\"No se puede iniciar la limpieza porque 'df_yt_stats' no está cargado.\")\n",
    "    raise ValueError(\"DataFrame 'df_yt_stats' original no disponible para copiar.\")\n"
   ]
  },
  {
   "cell_type": "code",
   "execution_count": 81,
   "metadata": {},
   "outputs": [
    {
     "name": "stderr",
     "output_type": "stream",
     "text": [
      "2025-04-11 12:12:10,299 - INFO - --- Iniciando Limpieza del DataFrame YouTube Stats ---\n"
     ]
    },
    {
     "name": "stdout",
     "output_type": "stream",
     "text": [
      "Filas antes de la limpieza: 99\n"
     ]
    }
   ],
   "source": [
    "                                                     \n",
    "if youtube_stats_clean is not None:\n",
    "    logging.info(\"--- Iniciando Limpieza del DataFrame YouTube Stats ---\")\n",
    "    print(f\"Filas antes de la limpieza: {len(youtube_stats_clean)}\")\n",
    "else:\n",
    "    logging.error(\"El DataFrame 'youtube_stats_clean' no se pudo crear.\")"
   ]
  },
  {
   "cell_type": "code",
   "execution_count": 82,
   "metadata": {},
   "outputs": [
    {
     "name": "stderr",
     "output_type": "stream",
     "text": [
      "2025-04-11 12:12:10,329 - INFO - Rellenando valores NaN en columnas numéricas con 0...\n",
      "2025-04-11 12:12:10,336 - INFO -   - Columna 'subscriber_count': 12 NaN rellenados con 0.\n",
      "2025-04-11 12:12:10,339 - INFO -   - Columna 'view_count': 12 NaN rellenados con 0.\n",
      "2025-04-11 12:12:10,344 - INFO -   - Columna 'video_count': 12 NaN rellenados con 0.\n",
      "2025-04-11 12:12:10,347 - INFO -   - Columna 'total_top10_video_likes': 12 NaN rellenados con 0.\n",
      "2025-04-11 12:12:10,349 - INFO - Relleno de NaN en columnas numéricas completado.\n"
     ]
    }
   ],
   "source": [
    "                                                                                       \n",
    "logging.info(\"Rellenando valores NaN en columnas numéricas con 0...\")\n",
    "cols_numericas_a_rellenar = ['subscriber_count', 'view_count', 'video_count', 'total_top10_video_likes']\n",
    "nulos_rellenados = {}\n",
    "for col in cols_numericas_a_rellenar:\n",
    "    if col in youtube_stats_clean.columns:\n",
    "        nulos_antes = youtube_stats_clean[col].isnull().sum()\n",
    "        if nulos_antes > 0:\n",
    "                                                                        \n",
    "            if col == 'subscriber_count':\n",
    "                    youtube_stats_clean[col] = youtube_stats_clean[col].replace(-1.0, np.nan)                         \n",
    "                    nulos_antes = youtube_stats_clean[col].isnull().sum()                   \n",
    "                                \n",
    "            youtube_stats_clean[col].fillna(0, inplace=True)\n",
    "            nulos_rellenados[col] = nulos_antes\n",
    "            logging.info(f\"  - Columna '{col}': {nulos_antes} NaN rellenados con 0.\")\n",
    "        else:\n",
    "                logging.info(f\"  - Columna '{col}': No se encontraron NaN para rellenar.\")\n",
    "    else:\n",
    "        logging.warning(f\"  - Columna '{col}' no encontrada para rellenar.\")\n",
    "if nulos_rellenados:\n",
    "    logging.info(\"Relleno de NaN en columnas numéricas completado.\")"
   ]
  },
  {
   "cell_type": "code",
   "execution_count": 83,
   "metadata": {},
   "outputs": [
    {
     "name": "stderr",
     "output_type": "stream",
     "text": [
      "2025-04-11 12:12:10,371 - INFO - Convirtiendo columnas numéricas a tipo Integer...\n",
      "2025-04-11 12:12:10,375 - INFO -   - Columna 'subscriber_count' convertida a int64.\n",
      "2025-04-11 12:12:10,378 - INFO -   - Columna 'view_count' convertida a int64.\n",
      "2025-04-11 12:12:10,381 - INFO -   - Columna 'video_count' convertida a int64.\n",
      "2025-04-11 12:12:10,385 - INFO -   - Columna 'total_top10_video_likes' convertida a int64.\n"
     ]
    }
   ],
   "source": [
    "                                             \n",
    "logging.info(\"Convirtiendo columnas numéricas a tipo Integer...\")\n",
    "for col in cols_numericas_a_rellenar:\n",
    "        if col in youtube_stats_clean.columns:\n",
    "            try:\n",
    "                                                                                                     \n",
    "                                                                \n",
    "                youtube_stats_clean[col] = youtube_stats_clean[col].astype('int64')\n",
    "                logging.info(f\"  - Columna '{col}' convertida a int64.\")\n",
    "            except Exception as e:\n",
    "                logging.error(f\"  - Error al convertir '{col}' a entero: {e}. Se mantendrá como {youtube_stats_clean[col].dtype}.\")\n",
    "        else:\n",
    "            logging.warning(f\"  - Columna '{col}' no encontrada para convertir tipo.\")"
   ]
  },
  {
   "cell_type": "code",
   "execution_count": 84,
   "metadata": {},
   "outputs": [
    {
     "name": "stderr",
     "output_type": "stream",
     "text": [
      "2025-04-11 12:12:10,404 - INFO - Eliminando espacios en blanco iniciales/finales de columnas de texto...\n",
      "2025-04-11 12:12:10,413 - INFO - Espacios eliminados en columnas: ['artist_query', 'channel_id_found', 'channel_title_verified']\n"
     ]
    }
   ],
   "source": [
    "                                 \n",
    "logging.info(\"Eliminando espacios en blanco iniciales/finales de columnas de texto...\")\n",
    "cols_texto = ['artist_query', 'channel_id_found', 'channel_title_verified']\n",
    "cols_stripped = []\n",
    "for col in cols_texto:\n",
    "    if col in youtube_stats_clean.columns:\n",
    "                                                                        \n",
    "        if pd.api.types.is_string_dtype(youtube_stats_clean[col]) or youtube_stats_clean[col].dtype == 'object':\n",
    "                                                                                            \n",
    "                youtube_stats_clean[col].fillna('', inplace=True)\n",
    "                youtube_stats_clean[col] = youtube_stats_clean[col].astype(str).str.strip()\n",
    "                cols_stripped.append(col)\n",
    "        else:\n",
    "                logging.warning(f\"  - La columna '{col}' no es de tipo texto, no se aplica strip.\")\n",
    "if cols_stripped:\n",
    "    logging.info(f\"Espacios eliminados en columnas: {cols_stripped}\")"
   ]
  },
  {
   "cell_type": "code",
   "execution_count": 85,
   "metadata": {},
   "outputs": [
    {
     "name": "stderr",
     "output_type": "stream",
     "text": [
      "2025-04-11 12:12:10,429 - INFO - Convirtiendo columnas de texto a tipo 'string' de Pandas...\n",
      "2025-04-11 12:12:10,435 - INFO - Columnas de texto convertidas a tipo 'string' de Pandas.\n",
      "2025-04-11 12:12:10,437 - INFO - --- Limpieza del DataFrame Finalizada ---\n"
     ]
    },
    {
     "name": "stdout",
     "output_type": "stream",
     "text": [
      "Filas después de la limpieza: 99\n"
     ]
    }
   ],
   "source": [
    "                                                  \n",
    "logging.info(\"Convirtiendo columnas de texto a tipo 'string' de Pandas...\")\n",
    "try:\n",
    "    for col in cols_texto:\n",
    "            if col in youtube_stats_clean.columns:\n",
    "                youtube_stats_clean[col] = youtube_stats_clean[col].astype('string')\n",
    "    logging.info(\"Columnas de texto convertidas a tipo 'string' de Pandas.\")\n",
    "except Exception as e:\n",
    "    logging.warning(f\"No se pudieron convertir todas las columnas a 'string': {e}\")\n",
    "\n",
    "\n",
    "logging.info(\"--- Limpieza del DataFrame Finalizada ---\")\n",
    "print(f\"Filas después de la limpieza: {len(youtube_stats_clean)}\")"
   ]
  },
  {
   "cell_type": "code",
   "execution_count": 86,
   "metadata": {},
   "outputs": [
    {
     "name": "stderr",
     "output_type": "stream",
     "text": [
      "2025-04-11 12:12:10,457 - INFO - \n",
      "--- Verificación del DataFrame Limpio ('youtube_stats_clean') ---\n"
     ]
    },
    {
     "name": "stdout",
     "output_type": "stream",
     "text": [
      "\n",
      "Primeras filas del DataFrame limpio:\n"
     ]
    },
    {
     "data": {
      "text/html": [
       "<div>\n",
       "<style scoped>\n",
       "    .dataframe tbody tr th:only-of-type {\n",
       "        vertical-align: middle;\n",
       "    }\n",
       "\n",
       "    .dataframe tbody tr th {\n",
       "        vertical-align: top;\n",
       "    }\n",
       "\n",
       "    .dataframe thead th {\n",
       "        text-align: right;\n",
       "    }\n",
       "</style>\n",
       "<table border=\"1\" class=\"dataframe\">\n",
       "  <thead>\n",
       "    <tr style=\"text-align: right;\">\n",
       "      <th></th>\n",
       "      <th>artist_query</th>\n",
       "      <th>channel_id_found</th>\n",
       "      <th>channel_title_verified</th>\n",
       "      <th>subscriber_count</th>\n",
       "      <th>view_count</th>\n",
       "      <th>video_count</th>\n",
       "      <th>total_top10_video_likes</th>\n",
       "    </tr>\n",
       "  </thead>\n",
       "  <tbody>\n",
       "    <tr>\n",
       "      <th>0</th>\n",
       "      <td>Nalan</td>\n",
       "      <td>UC_zzCBiTkpQwP8lwHgQ7M3Q</td>\n",
       "      <td>Nalan - Topic</td>\n",
       "      <td>19400</td>\n",
       "      <td>53723636</td>\n",
       "      <td>187</td>\n",
       "      <td>163164</td>\n",
       "    </tr>\n",
       "    <tr>\n",
       "      <th>1</th>\n",
       "      <td>Grupo Sensação</td>\n",
       "      <td>UCKiMawhTZ5z1S8i1_fezSAw</td>\n",
       "      <td>Grupo Sensação</td>\n",
       "      <td>55800</td>\n",
       "      <td>8161696</td>\n",
       "      <td>24</td>\n",
       "      <td>0</td>\n",
       "    </tr>\n",
       "    <tr>\n",
       "      <th>2</th>\n",
       "      <td>Gorillaz;Beck</td>\n",
       "      <td>UCNIV5B_aJnLrKDSnW_MOmcQ</td>\n",
       "      <td>Gorillaz - Topic</td>\n",
       "      <td>43100</td>\n",
       "      <td>1533592212</td>\n",
       "      <td>560</td>\n",
       "      <td>9354631</td>\n",
       "    </tr>\n",
       "    <tr>\n",
       "      <th>3</th>\n",
       "      <td>Parcels</td>\n",
       "      <td>UC2as7PrmUgmdZAkMIWNY6EQ</td>\n",
       "      <td>Parcels</td>\n",
       "      <td>306000</td>\n",
       "      <td>180354793</td>\n",
       "      <td>236</td>\n",
       "      <td>745054</td>\n",
       "    </tr>\n",
       "    <tr>\n",
       "      <th>4</th>\n",
       "      <td>Klingande</td>\n",
       "      <td>UCOX8OMkI7ULP7K8bfB_HTHA</td>\n",
       "      <td>Klingande</td>\n",
       "      <td>83500</td>\n",
       "      <td>64798541</td>\n",
       "      <td>44</td>\n",
       "      <td>163822</td>\n",
       "    </tr>\n",
       "  </tbody>\n",
       "</table>\n",
       "</div>"
      ],
      "text/plain": [
       "     artist_query          channel_id_found channel_title_verified  \\\n",
       "0           Nalan  UC_zzCBiTkpQwP8lwHgQ7M3Q          Nalan - Topic   \n",
       "1  Grupo Sensação  UCKiMawhTZ5z1S8i1_fezSAw         Grupo Sensação   \n",
       "2   Gorillaz;Beck  UCNIV5B_aJnLrKDSnW_MOmcQ       Gorillaz - Topic   \n",
       "3         Parcels  UC2as7PrmUgmdZAkMIWNY6EQ                Parcels   \n",
       "4       Klingande  UCOX8OMkI7ULP7K8bfB_HTHA              Klingande   \n",
       "\n",
       "   subscriber_count  view_count  video_count  total_top10_video_likes  \n",
       "0             19400    53723636          187                   163164  \n",
       "1             55800     8161696           24                        0  \n",
       "2             43100  1533592212          560                  9354631  \n",
       "3            306000   180354793          236                   745054  \n",
       "4             83500    64798541           44                   163822  "
      ]
     },
     "metadata": {},
     "output_type": "display_data"
    },
    {
     "name": "stdout",
     "output_type": "stream",
     "text": [
      "\n",
      "Información del DataFrame limpio (tipos en Pandas):\n",
      "<class 'pandas.core.frame.DataFrame'>\n",
      "RangeIndex: 99 entries, 0 to 98\n",
      "Data columns (total 7 columns):\n",
      " #   Column                   Non-Null Count  Dtype \n",
      "---  ------                   --------------  ----- \n",
      " 0   artist_query             99 non-null     string\n",
      " 1   channel_id_found         99 non-null     string\n",
      " 2   channel_title_verified   99 non-null     string\n",
      " 3   subscriber_count         99 non-null     int64 \n",
      " 4   view_count               99 non-null     int64 \n",
      " 5   video_count              99 non-null     int64 \n",
      " 6   total_top10_video_likes  99 non-null     int64 \n",
      "dtypes: int64(4), string(3)\n",
      "memory usage: 5.5 KB\n",
      "\n",
      "Conteo de nulos por columna en el DataFrame limpio:\n"
     ]
    },
    {
     "data": {
      "text/plain": [
       "artist_query               0\n",
       "channel_id_found           0\n",
       "channel_title_verified     0\n",
       "subscriber_count           0\n",
       "view_count                 0\n",
       "video_count                0\n",
       "total_top10_video_likes    0\n",
       "dtype: int64"
      ]
     },
     "metadata": {},
     "output_type": "display_data"
    }
   ],
   "source": [
    "                                            \n",
    "logging.info(\"\\n--- Verificación del DataFrame Limpio ('youtube_stats_clean') ---\")\n",
    "print(\"\\nPrimeras filas del DataFrame limpio:\")\n",
    "display(youtube_stats_clean.head())\n",
    "print(\"\\nInformación del DataFrame limpio (tipos en Pandas):\")\n",
    "youtube_stats_clean.info()\n",
    "print(\"\\nConteo de nulos por columna en el DataFrame limpio:\")\n",
    "display(youtube_stats_clean.isnull().sum())                                          "
   ]
  },
  {
   "cell_type": "code",
   "execution_count": 87,
   "metadata": {},
   "outputs": [
    {
     "name": "stderr",
     "output_type": "stream",
     "text": [
      "2025-04-11 12:12:10,510 - INFO - Creando motor SQLAlchemy para la base de datos 'artists' (para carga)...\n",
      "2025-04-11 12:12:10,582 - INFO - Motor SQLAlchemy para carga creado exitosamente.\n"
     ]
    }
   ],
   "source": [
    "                                                                       \n",
    "engine = None                                          \n",
    "if all([DB_USER, DB_PASSWORD, DB_HOST, DB_PORT, DB_NAME]):\n",
    "    try:\n",
    "        logging.info(f\"Creando motor SQLAlchemy para la base de datos '{DB_NAME}' (para carga)...\")\n",
    "        db_url = f'postgresql+psycopg2://{DB_USER}:{DB_PASSWORD}@{DB_HOST}:{DB_PORT}/{DB_NAME}'\n",
    "        engine = create_engine(db_url)\n",
    "        logging.info(f\"Motor SQLAlchemy para carga creado exitosamente.\")\n",
    "    except Exception as e:\n",
    "        logging.error(f\"Error al crear el motor SQLAlchemy para carga: {e}\")\n",
    "        engine = None                                      \n",
    "else:\n",
    "    logging.error(\"Faltan variables de entorno de DB, no se puede crear engine para carga.\")"
   ]
  },
  {
   "cell_type": "code",
   "execution_count": 88,
   "metadata": {},
   "outputs": [
    {
     "name": "stderr",
     "output_type": "stream",
     "text": [
      "2025-04-11 12:12:10,639 - INFO - Cargando DataFrame limpio a la tabla 'youtube_stats_clean' en chunks de 40000...\n",
      "2025-04-11 12:12:10,742 - INFO - DataFrame limpio cargado exitosamente en la tabla 'youtube_stats_clean' en 0.09 segundos.\n",
      "2025-04-11 12:12:10,744 - INFO - Verificando número de filas en la tabla 'youtube_stats_clean'...\n",
      "2025-04-11 12:12:10,747 - INFO - Número de filas en la tabla limpia 'youtube_stats_clean': 99\n",
      "2025-04-11 12:12:10,748 - INFO - Número de filas en el DataFrame limpio: 99\n",
      "2025-04-11 12:12:10,749 - INFO - ¡Verificación de carga final exitosa!\n",
      "2025-04-11 12:12:10,750 - INFO - --- Proceso de Limpieza y Carga de YouTube Stats Finalizado ---\n"
     ]
    }
   ],
   "source": [
    "                                                                                       \n",
    "                                                                     \n",
    "if youtube_stats_clean is not None and engine is not None:\n",
    "\n",
    "                                                             \n",
    "    sql_types = {\n",
    "        'artist_query': Text(),\n",
    "        'channel_id_found': Text(),                                \n",
    "        'channel_title_verified': Text(),                          \n",
    "        'subscriber_count': BigInteger(),                                \n",
    "        'view_count': BigInteger(),                                      \n",
    "        'video_count': Integer(),                               \n",
    "        'total_top10_video_likes': BigInteger()                            \n",
    "    }\n",
    "\n",
    "    logging.info(f\"Cargando DataFrame limpio a la tabla '{CLEAN_TABLE_NAME}' en chunks de {CHUNK_SIZE}...\")\n",
    "    start_upload_time = time.time()\n",
    "    try:\n",
    "        youtube_stats_clean.to_sql(\n",
    "            CLEAN_TABLE_NAME,\n",
    "            con=engine,\n",
    "            if_exists='replace',\n",
    "            index=False,\n",
    "            method='multi',\n",
    "            dtype=sql_types,\n",
    "            chunksize=CHUNK_SIZE\n",
    "        )\n",
    "        end_upload_time = time.time()\n",
    "        logging.info(f\"DataFrame limpio cargado exitosamente en la tabla '{CLEAN_TABLE_NAME}' en {end_upload_time - start_upload_time:.2f} segundos.\")\n",
    "\n",
    "                                                \n",
    "        logging.info(f\"Verificando número de filas en la tabla '{CLEAN_TABLE_NAME}'...\")\n",
    "        with engine.connect() as connection:\n",
    "            query_count = text(f'SELECT COUNT(*) FROM \"{CLEAN_TABLE_NAME}\"')\n",
    "            result = connection.execute(query_count)\n",
    "            num_db_clean_rows = result.scalar_one()\n",
    "\n",
    "        logging.info(f\"Número de filas en la tabla limpia '{CLEAN_TABLE_NAME}': {num_db_clean_rows}\")\n",
    "        logging.info(f\"Número de filas en el DataFrame limpio: {len(youtube_stats_clean)}\")\n",
    "\n",
    "        if len(youtube_stats_clean) == num_db_clean_rows:\n",
    "            logging.info(\"¡Verificación de carga final exitosa!\")\n",
    "        else:\n",
    "            logging.warning(\"Discrepancia en el número de filas entre el DataFrame limpio y la tabla cargada.\")\n",
    "\n",
    "    except Exception as e:\n",
    "        logging.error(f\"Error al cargar el DataFrame limpio en la base de datos: {e}\")\n",
    "        raise\n",
    "\n",
    "elif youtube_stats_clean is None:\n",
    "     logging.error(\"No se puede cargar la tabla limpia porque el DataFrame 'youtube_stats_clean' no está definido.\")\n",
    "elif engine is None:\n",
    "     logging.error(\"No se puede cargar la tabla limpia porque la conexión a la base de datos (engine) no está definida.\")\n",
    "\n",
    "logging.info(\"--- Proceso de Limpieza y Carga de YouTube Stats Finalizado ---\")"
   ]
  }
 ],
 "metadata": {
  "kernelspec": {
   "display_name": ".venv",
   "language": "python",
   "name": "python3"
  },
  "language_info": {
   "codemirror_mode": {
    "name": "ipython",
    "version": 3
   },
   "file_extension": ".py",
   "mimetype": "text/x-python",
   "name": "python",
   "nbconvert_exporter": "python",
   "pygments_lexer": "ipython3",
   "version": "3.10.12"
  }
 },
 "nbformat": 4,
 "nbformat_minor": 2
}
