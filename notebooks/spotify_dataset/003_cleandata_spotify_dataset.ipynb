{
 "cells": [
  {
   "cell_type": "code",
   "execution_count": 1,
   "metadata": {},
   "outputs": [],
   "source": [
    "                             \n",
    "import os\n",
    "import pandas as pd\n",
    "from sqlalchemy import create_engine, text\n",
    "                                      \n",
    "from sqlalchemy import Integer, String, Text, TIMESTAMP, Boolean, VARCHAR, Float\n",
    "from dotenv import load_dotenv\n",
    "import logging\n",
    "import numpy as np\n",
    "import warnings\n",
    "import time                    "
   ]
  },
  {
   "cell_type": "code",
   "execution_count": 2,
   "metadata": {},
   "outputs": [],
   "source": [
    "                        \n",
    "logging.basicConfig(level=logging.INFO, format='%(asctime)s - %(levelname)s - %(message)s')\n",
    "pd.set_option('display.max_rows', 15)\n",
    "pd.set_option('display.max_columns', None)\n",
    "pd.set_option('display.max_colwidth', 100)\n",
    "                                                 \n",
    "                                                           \n",
    "                                                                          "
   ]
  },
  {
   "cell_type": "code",
   "execution_count": 3,
   "metadata": {},
   "outputs": [
    {
     "name": "stderr",
     "output_type": "stream",
     "text": [
      "2025-04-11 12:29:21,685 - INFO - Cargando variables de entorno...\n",
      "2025-04-11 12:29:21,718 - INFO - Motor SQLAlchemy creado para la base de datos 'artists'.\n"
     ]
    }
   ],
   "source": [
    "                                                 \n",
    "logging.info(\"Cargando variables de entorno...\")\n",
    "dotenv_path = '/home/nicolas/Escritorio/workshops/workshop_2/env/.env'                         \n",
    "load_dotenv(dotenv_path=dotenv_path)\n",
    "\n",
    "DB_USER = os.getenv('POSTGRES_USER')\n",
    "DB_PASSWORD = os.getenv('POSTGRES_PASSWORD')\n",
    "DB_HOST = os.getenv('POSTGRES_HOST')\n",
    "DB_PORT = os.getenv('POSTGRES_PORT')\n",
    "DB_NAME = os.getenv('POSTGRES_DB')\n",
    "SOURCE_TABLE_NAME = 'spotify_dataset'                                  \n",
    "CLEAN_TABLE_NAME = 'spotify_dataset_clean'                             \n",
    "CHUNK_SIZE = 40000                                                      \n",
    "\n",
    "engine = None\n",
    "if not all([DB_USER, DB_PASSWORD, DB_HOST, DB_PORT, DB_NAME]):\n",
    "    logging.error(\"Faltan variables de entorno para la base de datos en \" + dotenv_path)\n",
    "    raise ValueError(\"Variables de entorno incompletas.\")\n",
    "else:\n",
    "    try:\n",
    "        db_url = f'postgresql+psycopg2://{DB_USER}:{DB_PASSWORD}@{DB_HOST}:{DB_PORT}/{DB_NAME}'\n",
    "        engine = create_engine(db_url)\n",
    "        logging.info(f\"Motor SQLAlchemy creado para la base de datos '{DB_NAME}'.\")\n",
    "    except Exception as e:\n",
    "        logging.error(f\"Error al crear el motor SQLAlchemy: {e}\")\n",
    "        raise"
   ]
  },
  {
   "cell_type": "code",
   "execution_count": 4,
   "metadata": {},
   "outputs": [
    {
     "name": "stderr",
     "output_type": "stream",
     "text": [
      "2025-04-11 12:29:21,727 - INFO - Leyendo datos desde la tabla original 'spotify_dataset'...\n",
      "2025-04-11 12:29:22,097 - INFO - Datos originales cargados exitosamente desde 'spotify_dataset'. Filas: 40000\n"
     ]
    }
   ],
   "source": [
    "                                                   \n",
    "df_spotify = None                     \n",
    "if engine:\n",
    "    try:\n",
    "        logging.info(f\"Leyendo datos desde la tabla original '{SOURCE_TABLE_NAME}'...\")\n",
    "        query = f'SELECT * FROM \"{SOURCE_TABLE_NAME}\"'\n",
    "                                                                            \n",
    "                                                                                                     \n",
    "                                                                    \n",
    "        df_spotify = pd.read_sql_query(query, con=engine)\n",
    "        logging.info(f\"Datos originales cargados exitosamente desde '{SOURCE_TABLE_NAME}'. Filas: {len(df_spotify)}\")\n",
    "    except Exception as e:\n",
    "        logging.error(f\"Error al leer la tabla original '{SOURCE_TABLE_NAME}': {e}\")\n",
    "        raise\n",
    "else:\n",
    "    logging.error(\"No se pudo crear el engine. No se pueden cargar los datos.\")\n",
    "    raise ValueError(\"Engine no disponible.\")"
   ]
  },
  {
   "cell_type": "code",
   "execution_count": 5,
   "metadata": {},
   "outputs": [
    {
     "name": "stderr",
     "output_type": "stream",
     "text": [
      "2025-04-11 12:29:22,104 - INFO - Creando copia del DataFrame para limpieza: 'spotify_dataset_clean'\n"
     ]
    }
   ],
   "source": [
    "                               \n",
    "\n",
    "                                       \n",
    "if df_spotify is not None:\n",
    "    logging.info(f\"Creando copia del DataFrame para limpieza: '{CLEAN_TABLE_NAME}'\")\n",
    "                                                                    \n",
    "    spotify_dataset_clean = df_spotify.copy()\n",
    "else:\n",
    "    logging.error(\"No se puede iniciar la limpieza porque 'df_spotify' no está cargado.\")\n",
    "    raise ValueError(\"DataFrame 'df_spotify' original no disponible para copiar.\")"
   ]
  },
  {
   "cell_type": "code",
   "execution_count": 6,
   "metadata": {},
   "outputs": [
    {
     "name": "stderr",
     "output_type": "stream",
     "text": [
      "2025-04-11 12:29:22,117 - INFO - --- Iniciando Limpieza del DataFrame Spotify ---\n",
      "2025-04-11 12:29:22,119 - INFO - Filas iniciales: 40000\n"
     ]
    }
   ],
   "source": [
    "                                                   \n",
    "if spotify_dataset_clean is not None:\n",
    "    logging.info(\"--- Iniciando Limpieza del DataFrame Spotify ---\")\n",
    "    initial_rows = len(spotify_dataset_clean)\n",
    "    logging.info(f\"Filas iniciales: {initial_rows}\")"
   ]
  },
  {
   "cell_type": "code",
   "execution_count": 7,
   "metadata": {},
   "outputs": [
    {
     "name": "stderr",
     "output_type": "stream",
     "text": [
      "2025-04-11 12:29:22,216 - INFO - Se eliminaron 195 filas duplicadas.\n"
     ]
    }
   ],
   "source": [
    "                                    \n",
    "    num_duplicados_before = spotify_dataset_clean.duplicated().sum()\n",
    "    if num_duplicados_before > 0:\n",
    "        spotify_dataset_clean.drop_duplicates(inplace=True)\n",
    "        logging.info(f\"Se eliminaron {num_duplicados_before} filas duplicadas.\")\n",
    "    else:\n",
    "        logging.info(\"No se encontraron filas duplicadas.\")\n",
    "    rows_after_duplicates = len(spotify_dataset_clean)"
   ]
  },
  {
   "cell_type": "code",
   "execution_count": 8,
   "metadata": {},
   "outputs": [
    {
     "name": "stderr",
     "output_type": "stream",
     "text": [
      "2025-04-11 12:29:22,238 - INFO - No se encontraron nulos en las columnas críticas ['artists', 'album_name', 'track_name'].\n"
     ]
    }
   ],
   "source": [
    "                                                      \n",
    "                                                                                     \n",
    "                            \n",
    "    cols_to_check_nulls = ['artists', 'album_name', 'track_name']\n",
    "    nulls_before_drop = spotify_dataset_clean[cols_to_check_nulls].isnull().sum().sum()\n",
    "    if nulls_before_drop > 0:\n",
    "        spotify_dataset_clean.dropna(subset=cols_to_check_nulls, inplace=True)\n",
    "        rows_dropped_nulls = rows_after_duplicates - len(spotify_dataset_clean)\n",
    "        logging.info(f\"Se eliminaron {rows_dropped_nulls} filas debido a nulos en {cols_to_check_nulls}.\")\n",
    "    else:\n",
    "        logging.info(f\"No se encontraron nulos en las columnas críticas {cols_to_check_nulls}.\")"
   ]
  },
  {
   "cell_type": "code",
   "execution_count": 9,
   "metadata": {},
   "outputs": [
    {
     "name": "stderr",
     "output_type": "stream",
     "text": [
      "2025-04-11 12:29:22,246 - INFO - Eliminando espacios en blanco iniciales/finales de columnas de texto...\n",
      "2025-04-11 12:29:22,316 - INFO - Espacios eliminados en columnas: ['track_id', 'artists', 'album_name', 'track_name', 'track_genre']\n"
     ]
    }
   ],
   "source": [
    "                                     \n",
    "    logging.info(\"Eliminando espacios en blanco iniciales/finales de columnas de texto...\")\n",
    "    object_columns = spotify_dataset_clean.select_dtypes(include=['object']).columns\n",
    "    cols_stripped = []\n",
    "    for col in object_columns:\n",
    "        if spotify_dataset_clean[col].notnull().any():\n",
    "            try:\n",
    "                spotify_dataset_clean[col] = spotify_dataset_clean[col].str.strip()\n",
    "                cols_stripped.append(col)\n",
    "            except AttributeError:\n",
    "                logging.warning(f\"No se pudo aplicar .str.strip() a la columna '{col}'.\")\n",
    "    if cols_stripped:\n",
    "        logging.info(f\"Espacios eliminados en columnas: {cols_stripped}\")"
   ]
  },
  {
   "cell_type": "code",
   "execution_count": 10,
   "metadata": {},
   "outputs": [
    {
     "name": "stderr",
     "output_type": "stream",
     "text": [
      "2025-04-11 12:29:22,325 - INFO - Optimizando tipos de datos en Pandas...\n",
      "2025-04-11 12:29:22,375 - INFO - Columnas de texto convertidas a tipo 'string' de Pandas.\n",
      "2025-04-11 12:29:22,376 - INFO - --- Limpieza del DataFrame Finalizada ---\n",
      "2025-04-11 12:29:22,377 - INFO - Filas restantes: 39805\n"
     ]
    }
   ],
   "source": [
    "                                                        \n",
    "    logging.info(\"Optimizando tipos de datos en Pandas...\")\n",
    "    try:\n",
    "        for col in spotify_dataset_clean.select_dtypes(include=['object']).columns:\n",
    "             spotify_dataset_clean[col] = spotify_dataset_clean[col].astype('string')\n",
    "        logging.info(\"Columnas de texto convertidas a tipo 'string' de Pandas.\")\n",
    "    except Exception as e:\n",
    "        logging.warning(f\"No se pudieron convertir todas las columnas a 'string': {e}\")\n",
    "\n",
    "    logging.info(\"--- Limpieza del DataFrame Finalizada ---\")\n",
    "    logging.info(f\"Filas restantes: {len(spotify_dataset_clean)}\")"
   ]
  },
  {
   "cell_type": "code",
   "execution_count": 11,
   "metadata": {},
   "outputs": [
    {
     "name": "stderr",
     "output_type": "stream",
     "text": [
      "2025-04-11 12:29:22,384 - INFO - \n",
      "--- Verificación del DataFrame Limpio ('spotify_dataset_clean') ---\n"
     ]
    },
    {
     "name": "stdout",
     "output_type": "stream",
     "text": [
      "\n",
      "Primeras filas del DataFrame limpio:\n"
     ]
    },
    {
     "data": {
      "text/html": [
       "<div>\n",
       "<style scoped>\n",
       "    .dataframe tbody tr th:only-of-type {\n",
       "        vertical-align: middle;\n",
       "    }\n",
       "\n",
       "    .dataframe tbody tr th {\n",
       "        vertical-align: top;\n",
       "    }\n",
       "\n",
       "    .dataframe thead th {\n",
       "        text-align: right;\n",
       "    }\n",
       "</style>\n",
       "<table border=\"1\" class=\"dataframe\">\n",
       "  <thead>\n",
       "    <tr style=\"text-align: right;\">\n",
       "      <th></th>\n",
       "      <th>track_id</th>\n",
       "      <th>artists</th>\n",
       "      <th>album_name</th>\n",
       "      <th>track_name</th>\n",
       "      <th>popularity</th>\n",
       "      <th>duration_ms</th>\n",
       "      <th>explicit</th>\n",
       "      <th>danceability</th>\n",
       "      <th>energy</th>\n",
       "      <th>key</th>\n",
       "      <th>loudness</th>\n",
       "      <th>mode</th>\n",
       "      <th>speechiness</th>\n",
       "      <th>acousticness</th>\n",
       "      <th>instrumentalness</th>\n",
       "      <th>liveness</th>\n",
       "      <th>valence</th>\n",
       "      <th>tempo</th>\n",
       "      <th>time_signature</th>\n",
       "      <th>track_genre</th>\n",
       "    </tr>\n",
       "  </thead>\n",
       "  <tbody>\n",
       "    <tr>\n",
       "      <th>0</th>\n",
       "      <td>5SuOikwiRyPMVoIQDJUgSV</td>\n",
       "      <td>Gen Hoshino</td>\n",
       "      <td>Comedy</td>\n",
       "      <td>Comedy</td>\n",
       "      <td>73</td>\n",
       "      <td>230666</td>\n",
       "      <td>False</td>\n",
       "      <td>0.676</td>\n",
       "      <td>0.4610</td>\n",
       "      <td>1</td>\n",
       "      <td>-6.746</td>\n",
       "      <td>0</td>\n",
       "      <td>0.1430</td>\n",
       "      <td>0.0322</td>\n",
       "      <td>0.000001</td>\n",
       "      <td>0.3580</td>\n",
       "      <td>0.715</td>\n",
       "      <td>87.917</td>\n",
       "      <td>4</td>\n",
       "      <td>acoustic</td>\n",
       "    </tr>\n",
       "    <tr>\n",
       "      <th>1</th>\n",
       "      <td>4qPNDBW1i3p13qLCt0Ki3A</td>\n",
       "      <td>Ben Woodward</td>\n",
       "      <td>Ghost (Acoustic)</td>\n",
       "      <td>Ghost - Acoustic</td>\n",
       "      <td>55</td>\n",
       "      <td>149610</td>\n",
       "      <td>False</td>\n",
       "      <td>0.420</td>\n",
       "      <td>0.1660</td>\n",
       "      <td>1</td>\n",
       "      <td>-17.235</td>\n",
       "      <td>1</td>\n",
       "      <td>0.0763</td>\n",
       "      <td>0.9240</td>\n",
       "      <td>0.000006</td>\n",
       "      <td>0.1010</td>\n",
       "      <td>0.267</td>\n",
       "      <td>77.489</td>\n",
       "      <td>4</td>\n",
       "      <td>acoustic</td>\n",
       "    </tr>\n",
       "    <tr>\n",
       "      <th>2</th>\n",
       "      <td>1iJBSr7s7jYXzM8EGcbK5b</td>\n",
       "      <td>Ingrid Michaelson;ZAYN</td>\n",
       "      <td>To Begin Again</td>\n",
       "      <td>To Begin Again</td>\n",
       "      <td>57</td>\n",
       "      <td>210826</td>\n",
       "      <td>False</td>\n",
       "      <td>0.438</td>\n",
       "      <td>0.3590</td>\n",
       "      <td>0</td>\n",
       "      <td>-9.734</td>\n",
       "      <td>1</td>\n",
       "      <td>0.0557</td>\n",
       "      <td>0.2100</td>\n",
       "      <td>0.000000</td>\n",
       "      <td>0.1170</td>\n",
       "      <td>0.120</td>\n",
       "      <td>76.332</td>\n",
       "      <td>4</td>\n",
       "      <td>acoustic</td>\n",
       "    </tr>\n",
       "    <tr>\n",
       "      <th>3</th>\n",
       "      <td>6lfxq3CG4xtTiEg7opyCyx</td>\n",
       "      <td>Kina Grannis</td>\n",
       "      <td>Crazy Rich Asians (Original Motion Picture Soundtrack)</td>\n",
       "      <td>Can't Help Falling In Love</td>\n",
       "      <td>71</td>\n",
       "      <td>201933</td>\n",
       "      <td>False</td>\n",
       "      <td>0.266</td>\n",
       "      <td>0.0596</td>\n",
       "      <td>0</td>\n",
       "      <td>-18.515</td>\n",
       "      <td>1</td>\n",
       "      <td>0.0363</td>\n",
       "      <td>0.9050</td>\n",
       "      <td>0.000071</td>\n",
       "      <td>0.1320</td>\n",
       "      <td>0.143</td>\n",
       "      <td>181.740</td>\n",
       "      <td>3</td>\n",
       "      <td>acoustic</td>\n",
       "    </tr>\n",
       "    <tr>\n",
       "      <th>4</th>\n",
       "      <td>5vjLSffimiIP26QG5WcN2K</td>\n",
       "      <td>Chord Overstreet</td>\n",
       "      <td>Hold On</td>\n",
       "      <td>Hold On</td>\n",
       "      <td>82</td>\n",
       "      <td>198853</td>\n",
       "      <td>False</td>\n",
       "      <td>0.618</td>\n",
       "      <td>0.4430</td>\n",
       "      <td>2</td>\n",
       "      <td>-9.681</td>\n",
       "      <td>1</td>\n",
       "      <td>0.0526</td>\n",
       "      <td>0.4690</td>\n",
       "      <td>0.000000</td>\n",
       "      <td>0.0829</td>\n",
       "      <td>0.167</td>\n",
       "      <td>119.949</td>\n",
       "      <td>4</td>\n",
       "      <td>acoustic</td>\n",
       "    </tr>\n",
       "  </tbody>\n",
       "</table>\n",
       "</div>"
      ],
      "text/plain": [
       "                 track_id                 artists  \\\n",
       "0  5SuOikwiRyPMVoIQDJUgSV             Gen Hoshino   \n",
       "1  4qPNDBW1i3p13qLCt0Ki3A            Ben Woodward   \n",
       "2  1iJBSr7s7jYXzM8EGcbK5b  Ingrid Michaelson;ZAYN   \n",
       "3  6lfxq3CG4xtTiEg7opyCyx            Kina Grannis   \n",
       "4  5vjLSffimiIP26QG5WcN2K        Chord Overstreet   \n",
       "\n",
       "                                               album_name  \\\n",
       "0                                                  Comedy   \n",
       "1                                        Ghost (Acoustic)   \n",
       "2                                          To Begin Again   \n",
       "3  Crazy Rich Asians (Original Motion Picture Soundtrack)   \n",
       "4                                                 Hold On   \n",
       "\n",
       "                   track_name  popularity  duration_ms  explicit  \\\n",
       "0                      Comedy          73       230666     False   \n",
       "1            Ghost - Acoustic          55       149610     False   \n",
       "2              To Begin Again          57       210826     False   \n",
       "3  Can't Help Falling In Love          71       201933     False   \n",
       "4                     Hold On          82       198853     False   \n",
       "\n",
       "   danceability  energy  key  loudness  mode  speechiness  acousticness  \\\n",
       "0         0.676  0.4610    1    -6.746     0       0.1430        0.0322   \n",
       "1         0.420  0.1660    1   -17.235     1       0.0763        0.9240   \n",
       "2         0.438  0.3590    0    -9.734     1       0.0557        0.2100   \n",
       "3         0.266  0.0596    0   -18.515     1       0.0363        0.9050   \n",
       "4         0.618  0.4430    2    -9.681     1       0.0526        0.4690   \n",
       "\n",
       "   instrumentalness  liveness  valence    tempo  time_signature track_genre  \n",
       "0          0.000001    0.3580    0.715   87.917               4    acoustic  \n",
       "1          0.000006    0.1010    0.267   77.489               4    acoustic  \n",
       "2          0.000000    0.1170    0.120   76.332               4    acoustic  \n",
       "3          0.000071    0.1320    0.143  181.740               3    acoustic  \n",
       "4          0.000000    0.0829    0.167  119.949               4    acoustic  "
      ]
     },
     "metadata": {},
     "output_type": "display_data"
    },
    {
     "name": "stdout",
     "output_type": "stream",
     "text": [
      "\n",
      "Información del DataFrame limpio (tipos en Pandas):\n",
      "<class 'pandas.core.frame.DataFrame'>\n",
      "Index: 39805 entries, 0 to 39999\n",
      "Data columns (total 20 columns):\n",
      " #   Column            Non-Null Count  Dtype  \n",
      "---  ------            --------------  -----  \n",
      " 0   track_id          39805 non-null  string \n",
      " 1   artists           39805 non-null  string \n",
      " 2   album_name        39805 non-null  string \n",
      " 3   track_name        39805 non-null  string \n",
      " 4   popularity        39805 non-null  int64  \n",
      " 5   duration_ms       39805 non-null  int64  \n",
      " 6   explicit          39805 non-null  bool   \n",
      " 7   danceability      39805 non-null  float64\n",
      " 8   energy            39805 non-null  float64\n",
      " 9   key               39805 non-null  int64  \n",
      " 10  loudness          39805 non-null  float64\n",
      " 11  mode              39805 non-null  int64  \n",
      " 12  speechiness       39805 non-null  float64\n",
      " 13  acousticness      39805 non-null  float64\n",
      " 14  instrumentalness  39805 non-null  float64\n",
      " 15  liveness          39805 non-null  float64\n",
      " 16  valence           39805 non-null  float64\n",
      " 17  tempo             39805 non-null  float64\n",
      " 18  time_signature    39805 non-null  int64  \n",
      " 19  track_genre       39805 non-null  string \n",
      "dtypes: bool(1), float64(9), int64(5), string(5)\n",
      "memory usage: 6.1 MB\n",
      "\n",
      "Conteo de nulos por columna en el DataFrame limpio:\n"
     ]
    },
    {
     "data": {
      "text/plain": [
       "track_id          0\n",
       "artists           0\n",
       "album_name        0\n",
       "track_name        0\n",
       "popularity        0\n",
       "                 ..\n",
       "liveness          0\n",
       "valence           0\n",
       "tempo             0\n",
       "time_signature    0\n",
       "track_genre       0\n",
       "Length: 20, dtype: int64"
      ]
     },
     "metadata": {},
     "output_type": "display_data"
    },
    {
     "name": "stdout",
     "output_type": "stream",
     "text": [
      "\n",
      "Conteo de duplicados restantes:\n",
      "0\n"
     ]
    }
   ],
   "source": [
    "                                                \n",
    "    logging.info(\"\\n--- Verificación del DataFrame Limpio ('spotify_dataset_clean') ---\")\n",
    "    print(\"\\nPrimeras filas del DataFrame limpio:\")\n",
    "    display(spotify_dataset_clean.head())\n",
    "    print(\"\\nInformación del DataFrame limpio (tipos en Pandas):\")\n",
    "    spotify_dataset_clean.info()\n",
    "    print(\"\\nConteo de nulos por columna en el DataFrame limpio:\")\n",
    "    display(spotify_dataset_clean.isnull().sum())\n",
    "    print(\"\\nConteo de duplicados restantes:\")\n",
    "    print(spotify_dataset_clean.duplicated().sum())"
   ]
  },
  {
   "cell_type": "code",
   "execution_count": 12,
   "metadata": {},
   "outputs": [
    {
     "name": "stderr",
     "output_type": "stream",
     "text": [
      "2025-04-11 12:29:22,507 - INFO - Cargando DataFrame limpio a la tabla 'spotify_dataset_clean' en chunks de 40000...\n",
      "2025-04-11 12:29:35,447 - INFO - DataFrame limpio cargado exitosamente en la tabla 'spotify_dataset_clean' en 12.94 segundos.\n",
      "2025-04-11 12:29:35,448 - INFO - Verificando número de filas en la tabla 'spotify_dataset_clean'...\n",
      "2025-04-11 12:29:35,452 - INFO - Número de filas en la tabla limpia 'spotify_dataset_clean': 39805\n",
      "2025-04-11 12:29:35,452 - INFO - Número de filas en el DataFrame limpio: 39805\n",
      "2025-04-11 12:29:35,452 - INFO - ¡Verificación de carga exitosa!\n",
      "2025-04-11 12:29:35,453 - INFO - --- Proceso de Limpieza y Carga Finalizado para Spotify ---\n"
     ]
    }
   ],
   "source": [
    "                                                                                       \n",
    "if spotify_dataset_clean is not None and engine is not None:\n",
    "\n",
    "                                                       \n",
    "    sql_types = {\n",
    "        'track_id': Text(),                              \n",
    "        'artists': Text(),                               \n",
    "        'album_name': Text(),                            \n",
    "        'track_name': Text(),                            \n",
    "        'popularity': Integer(),                    \n",
    "        'duration_ms': Integer(),                   \n",
    "        'explicit': Boolean(),                     \n",
    "        'danceability': Float(),                                       \n",
    "        'energy': Float(),                          \n",
    "        'key': Integer(),                           \n",
    "        'loudness': Float(),                        \n",
    "        'mode': Integer(),                          \n",
    "        'speechiness': Float(),                     \n",
    "        'acousticness': Float(),                    \n",
    "        'instrumentalness': Float(),                  \n",
    "        'liveness': Float(),                        \n",
    "        'valence': Float(),                         \n",
    "        'tempo': Float(),                           \n",
    "        'time_signature': Integer(),                  \n",
    "        'track_genre': Text()                            \n",
    "    }\n",
    "\n",
    "    logging.info(f\"Cargando DataFrame limpio a la tabla '{CLEAN_TABLE_NAME}' en chunks de {CHUNK_SIZE}...\")\n",
    "    start_upload_time = time.time()\n",
    "    try:\n",
    "                                                                                                \n",
    "                                                                                        \n",
    "        spotify_dataset_clean.to_sql(\n",
    "            CLEAN_TABLE_NAME,\n",
    "            con=engine,\n",
    "            if_exists='replace',\n",
    "            index=False,\n",
    "            method='multi',\n",
    "            dtype=sql_types,\n",
    "            chunksize=CHUNK_SIZE                                    \n",
    "        )\n",
    "        end_upload_time = time.time()\n",
    "        logging.info(f\"DataFrame limpio cargado exitosamente en la tabla '{CLEAN_TABLE_NAME}' en {end_upload_time - start_upload_time:.2f} segundos.\")\n",
    "\n",
    "                                                \n",
    "        logging.info(f\"Verificando número de filas en la tabla '{CLEAN_TABLE_NAME}'...\")\n",
    "        with engine.connect() as connection:\n",
    "            query_count = text(f'SELECT COUNT(*) FROM \"{CLEAN_TABLE_NAME}\"')\n",
    "            result = connection.execute(query_count)\n",
    "            num_db_clean_rows = result.scalar_one()\n",
    "\n",
    "        logging.info(f\"Número de filas en la tabla limpia '{CLEAN_TABLE_NAME}': {num_db_clean_rows}\")\n",
    "        logging.info(f\"Número de filas en el DataFrame limpio: {len(spotify_dataset_clean)}\")\n",
    "\n",
    "        if len(spotify_dataset_clean) == num_db_clean_rows:\n",
    "            logging.info(\"¡Verificación de carga exitosa!\")\n",
    "        else:\n",
    "            logging.warning(\"Discrepancia en el número de filas entre el DataFrame limpio y la tabla cargada.\")\n",
    "\n",
    "    except Exception as e:\n",
    "        logging.error(f\"Error al cargar el DataFrame limpio en la base de datos: {e}\")\n",
    "\n",
    "elif spotify_dataset_clean is None:\n",
    "     logging.error(\"No se puede cargar la tabla limpia porque el DataFrame 'spotify_dataset_clean' no está definido.\")\n",
    "elif engine is None:\n",
    "     logging.error(\"No se puede cargar la tabla limpia porque la conexión a la base de datos (engine) no está definida.\")\n",
    "\n",
    "logging.info(\"--- Proceso de Limpieza y Carga Finalizado para Spotify ---\")"
   ]
  }
 ],
 "metadata": {
  "kernelspec": {
   "display_name": ".venv",
   "language": "python",
   "name": "python3"
  },
  "language_info": {
   "codemirror_mode": {
    "name": "ipython",
    "version": 3
   },
   "file_extension": ".py",
   "mimetype": "text/x-python",
   "name": "python",
   "nbconvert_exporter": "python",
   "pygments_lexer": "ipython3",
   "version": "3.10.12"
  }
 },
 "nbformat": 4,
 "nbformat_minor": 2
}
