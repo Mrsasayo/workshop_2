{
 "cells": [
  {
   "cell_type": "code",
   "execution_count": 1,
   "metadata": {},
   "outputs": [],
   "source": [
    "# Celda 1: Importar librerías\n",
    "import os\n",
    "import pandas as pd\n",
    "from sqlalchemy import create_engine, text\n",
    "# --- Importar tipos de SQLAlchemy ---\n",
    "from sqlalchemy import Integer, String, Text, TIMESTAMP, Boolean, VARCHAR # Añadido VARCHAR\n",
    "from dotenv import load_dotenv\n",
    "import logging\n",
    "import numpy as np\n",
    "import warnings"
   ]
  },
  {
   "cell_type": "code",
   "execution_count": 2,
   "metadata": {},
   "outputs": [],
   "source": [
    "# Celda 2: Configuración\n",
    "logging.basicConfig(level=logging.INFO, format='%(asctime)s - %(levelname)s - %(message)s')\n",
    "pd.set_option('display.max_rows', 15)\n",
    "pd.set_option('display.max_columns', None)\n",
    "# Suprimir la advertencia específica de zona horaria mixta si es necesario, aunque es mejor solucionarla.\n",
    "# warnings.filterwarnings(\"ignore\", message=\"parsing datetimes with mixed time zones will raise an error\", category=FutureWarning)"
   ]
  },
  {
   "cell_type": "markdown",
   "metadata": {},
   "source": [
    "Celda 3: Establecer conexión a la base de datos y cargar datos en DataFrame\n"
   ]
  },
  {
   "cell_type": "code",
   "execution_count": 3,
   "metadata": {},
   "outputs": [
    {
     "name": "stderr",
     "output_type": "stream",
     "text": [
      "2025-04-10 23:59:07,487 - INFO - Cargando variables de entorno...\n",
      "2025-04-10 23:59:07,515 - INFO - Motor SQLAlchemy creado para la base de datos 'artists'.\n"
     ]
    }
   ],
   "source": [
    "# Celda 3: Cargar Variables de Entorno y Conectar (Asume que el engine se creó antes)\n",
    "logging.info(\"Cargando variables de entorno...\")\n",
    "dotenv_path = '/home/nicolas/Escritorio/workshops/workshop_2/env/.env' # <-- CONFIRMA ESTA RUTA\n",
    "load_dotenv(dotenv_path=dotenv_path)\n",
    "\n",
    "DB_USER = os.getenv('POSTGRES_USER')\n",
    "DB_PASSWORD = os.getenv('POSTGRES_PASSWORD')\n",
    "DB_HOST = os.getenv('POSTGRES_HOST')\n",
    "DB_PORT = os.getenv('POSTGRES_PORT')\n",
    "DB_NAME = os.getenv('POSTGRES_DB')\n",
    "SOURCE_TABLE_NAME = 'the_grammy_awards' # Tabla original de donde leer\n",
    "CLEAN_TABLE_NAME = 'the_grammy_awards_clean' # Nombre de la nueva tabla limpia\n",
    "\n",
    "df = None\n",
    "engine = None\n",
    "\n",
    "if not all([DB_USER, DB_PASSWORD, DB_HOST, DB_PORT, DB_NAME]):\n",
    "    logging.error(\"Faltan variables de entorno para la base de datos en \" + dotenv_path)\n",
    "    raise ValueError(\"Variables de entorno incompletas.\")\n",
    "else:\n",
    "    try:\n",
    "        db_url = f'postgresql+psycopg2://{DB_USER}:{DB_PASSWORD}@{DB_HOST}:{DB_PORT}/{DB_NAME}'\n",
    "        engine = create_engine(db_url)\n",
    "        logging.info(f\"Motor SQLAlchemy creado para la base de datos '{DB_NAME}'.\")\n",
    "    except Exception as e:\n",
    "        logging.error(f\"Error al crear el motor SQLAlchemy: {e}\")\n",
    "        raise"
   ]
  },
  {
   "cell_type": "code",
   "execution_count": 4,
   "metadata": {},
   "outputs": [
    {
     "name": "stderr",
     "output_type": "stream",
     "text": [
      "2025-04-10 23:59:07,524 - INFO - Leyendo datos desde la tabla original 'the_grammy_awards'...\n",
      "2025-04-10 23:59:07,561 - INFO - Datos originales cargados exitosamente desde 'the_grammy_awards'. Filas: 4810\n"
     ]
    }
   ],
   "source": [
    "# Celda 4: Cargar Datos Originales desde PostgreSQL\n",
    "if engine:\n",
    "    try:\n",
    "        logging.info(f\"Leyendo datos desde la tabla original '{SOURCE_TABLE_NAME}'...\")\n",
    "        query = f\"SELECT * FROM \\\"{SOURCE_TABLE_NAME}\\\"\" # Usar comillas por si acaso\n",
    "        df = pd.read_sql_query(query, con=engine)\n",
    "        logging.info(f\"Datos originales cargados exitosamente desde '{SOURCE_TABLE_NAME}'. Filas: {len(df)}\")\n",
    "    except Exception as e:\n",
    "        logging.error(f\"Error al leer la tabla original '{SOURCE_TABLE_NAME}': {e}\")\n",
    "        df = None # Asegurarse de que df sea None si falla la carga\n",
    "        raise\n",
    "else:\n",
    "    logging.error(\"No se pudo crear el engine. No se pueden cargar los datos.\")\n",
    "    raise ValueError(\"Engine no disponible.\")\n",
    "\n",
    "# --- Inicio de la Limpieza ---\n"
   ]
  },
  {
   "cell_type": "code",
   "execution_count": 5,
   "metadata": {},
   "outputs": [
    {
     "name": "stderr",
     "output_type": "stream",
     "text": [
      "2025-04-10 23:59:07,571 - INFO - Creando copia del DataFrame para limpieza: 'the_grammy_awards_clean'\n"
     ]
    }
   ],
   "source": [
    "# Celda 5: Crear copia para la limpieza\n",
    "if df is not None:\n",
    "    logging.info(f\"Creando copia del DataFrame para limpieza: '{CLEAN_TABLE_NAME}'\")\n",
    "    the_grammy_awards_clean = df.copy()\n",
    "else:\n",
    "    logging.error(\"No se puede iniciar la limpieza porque 'df' no está cargado.\")\n",
    "    raise ValueError(\"DataFrame 'df' original no disponible para copiar.\")"
   ]
  },
  {
   "cell_type": "code",
   "execution_count": 6,
   "metadata": {},
   "outputs": [
    {
     "name": "stderr",
     "output_type": "stream",
     "text": [
      "2025-04-10 23:59:07,582 - INFO - Convirtiendo columnas de fecha a datetime (UTC)...\n",
      "2025-04-10 23:59:07,594 - INFO - Columna 'published_at' convertida a datetime (UTC). Nuevo tipo: datetime64[ns, UTC]\n",
      "2025-04-10 23:59:07,599 - INFO - Columna 'updated_at' convertida a datetime (UTC). Nuevo tipo: datetime64[ns, UTC]\n"
     ]
    }
   ],
   "source": [
    "# Celda 6: Conversión de Tipos de Datos (Fechas) - CORREGIDO\n",
    "if the_grammy_awards_clean is not None:\n",
    "    logging.info(\"Convirtiendo columnas de fecha a datetime (UTC)...\")\n",
    "    date_cols = ['published_at', 'updated_at']\n",
    "    initial_non_nulls = the_grammy_awards_clean[date_cols].notnull().sum()\n",
    "\n",
    "    for col in date_cols:\n",
    "        if col in the_grammy_awards_clean.columns:\n",
    "            try:\n",
    "                # --- CORRECCIÓN: Añadir utc=True ---\n",
    "                the_grammy_awards_clean[col] = pd.to_datetime(the_grammy_awards_clean[col], errors='coerce', utc=True)\n",
    "                # ------------------------------------\n",
    "                logging.info(f\"Columna '{col}' convertida a datetime (UTC). Nuevo tipo: {the_grammy_awards_clean[col].dtype}\")\n",
    "            except Exception as e:\n",
    "                 logging.error(f\"Error convirtiendo '{col}' a datetime: {e}\")\n",
    "                 # Mantenerla como objeto si falla inesperadamente\n",
    "                 pass # Opcional: the_grammy_awards_clean[col] = df[col] para restaurar\n",
    "\n",
    "    # Verificar errores de conversión (NaT)\n",
    "    final_non_nulls = the_grammy_awards_clean[date_cols].notnull().sum()\n",
    "    for col in date_cols:\n",
    "         if col in final_non_nulls.index: # Asegurar que la columna aún exista\n",
    "             errors_count = initial_non_nulls.get(col, 0) - final_non_nulls.get(col, 0)\n",
    "             if errors_count > 0:\n",
    "                 logging.warning(f\"Se encontraron {errors_count} errores de formato en '{col}' que se convirtieron a NaT.\")"
   ]
  },
  {
   "cell_type": "code",
   "execution_count": 7,
   "metadata": {},
   "outputs": [
    {
     "name": "stderr",
     "output_type": "stream",
     "text": [
      "2025-04-10 23:59:07,609 - INFO - Manejando valores nulos...\n",
      "2025-04-10 23:59:07,614 - INFO - Se eliminaron 6 filas por nulos en 'nominee'.\n",
      "2025-04-10 23:59:07,615 - INFO - Rellenando nulos en ['artist', 'workers', 'img']...\n",
      "2025-04-10 23:59:07,616 - INFO -   - Nulos en 'artist' rellenados con 'No Especificado'. (1834 valores)\n",
      "2025-04-10 23:59:07,619 - INFO -   - Nulos en 'workers' rellenados con 'No Especificado'. (2184 valores)\n",
      "2025-04-10 23:59:07,622 - INFO -   - Nulos en 'img' rellenados con 'Sin URL'. (1361 valores)\n",
      "2025-04-10 23:59:07,623 - INFO - Verificación de nulos después del relleno:\n"
     ]
    },
    {
     "name": "stdout",
     "output_type": "stream",
     "text": [
      "artist     0\n",
      "workers    0\n",
      "img        0\n",
      "dtype: int64\n"
     ]
    }
   ],
   "source": [
    "# Celda 7: Manejo de Valores Nulos\n",
    "if the_grammy_awards_clean is not None:\n",
    "    logging.info(\"Manejando valores nulos...\")\n",
    "\n",
    "    # 1. Eliminar filas con 'nominee' nulo\n",
    "    initial_rows = len(the_grammy_awards_clean)\n",
    "    the_grammy_awards_clean.dropna(subset=['nominee'], inplace=True)\n",
    "    rows_dropped = initial_rows - len(the_grammy_awards_clean)\n",
    "    if rows_dropped > 0:\n",
    "        logging.info(f\"Se eliminaron {rows_dropped} filas por nulos en 'nominee'.\")\n",
    "    else:\n",
    "         logging.info(\"No se encontraron nulos en 'nominee'.\")\n",
    "\n",
    "    # 2. Rellenar nulos en otras columnas clave\n",
    "    fill_values = {\n",
    "        'artist': 'No Especificado',\n",
    "        'workers': 'No Especificado',\n",
    "        'img': 'Sin URL'\n",
    "    }\n",
    "    logging.info(f\"Rellenando nulos en {list(fill_values.keys())}...\")\n",
    "    for col, placeholder in fill_values.items():\n",
    "        if col in the_grammy_awards_clean.columns:\n",
    "             null_count_before = the_grammy_awards_clean[col].isnull().sum()\n",
    "             if null_count_before > 0:\n",
    "                 the_grammy_awards_clean[col].fillna(placeholder, inplace=True)\n",
    "                 logging.info(f\"  - Nulos en '{col}' rellenados con '{placeholder}'. ({null_count_before} valores)\")\n",
    "             else:\n",
    "                 logging.info(f\"  - No se encontraron nulos en '{col}'.\")\n",
    "\n",
    "    logging.info(\"Verificación de nulos después del relleno:\")\n",
    "    print(the_grammy_awards_clean[['artist', 'workers', 'img']].isnull().sum())"
   ]
  },
  {
   "cell_type": "code",
   "execution_count": 8,
   "metadata": {},
   "outputs": [
    {
     "name": "stderr",
     "output_type": "stream",
     "text": [
      "2025-04-10 23:59:07,649 - INFO - Eliminando espacios en blanco iniciales/finales de columnas de texto...\n",
      "2025-04-10 23:59:07,673 - INFO - Espacios eliminados en columnas: ['title', 'category', 'nominee', 'artist', 'workers', 'img']\n"
     ]
    }
   ],
   "source": [
    "# Celda 8: Limpieza Básica de Texto (Espacios)\n",
    "if the_grammy_awards_clean is not None:\n",
    "    logging.info(\"Eliminando espacios en blanco iniciales/finales de columnas de texto...\")\n",
    "    # Seleccionar solo columnas que son *definitivamente* de texto después de otras conversiones\n",
    "    object_columns_final = the_grammy_awards_clean.select_dtypes(include=['object']).columns\n",
    "    cols_stripped = []\n",
    "    for col in object_columns_final:\n",
    "        if the_grammy_awards_clean[col].notnull().any(): # Solo si hay algo que limpiar\n",
    "            try:\n",
    "                the_grammy_awards_clean[col] = the_grammy_awards_clean[col].str.strip()\n",
    "                cols_stripped.append(col)\n",
    "            except AttributeError:\n",
    "                 logging.warning(f\"No se pudo aplicar .str.strip() a la columna '{col}'.\") # Raro si es tipo object\n",
    "    if cols_stripped:\n",
    "        logging.info(f\"Espacios eliminados en columnas: {cols_stripped}\")\n",
    "    else:\n",
    "        logging.info(\"No se encontraron columnas de texto con espacios para limpiar.\")"
   ]
  },
  {
   "cell_type": "code",
   "execution_count": 9,
   "metadata": {},
   "outputs": [
    {
     "name": "stderr",
     "output_type": "stream",
     "text": [
      "2025-04-10 23:59:07,687 - INFO - Optimizando tipos de datos en Pandas...\n",
      "2025-04-10 23:59:07,696 - INFO - Columnas de texto convertidas a tipo 'string' de Pandas.\n"
     ]
    }
   ],
   "source": [
    "# Celda 9: Conversión a Tipos de Pandas Óptimos (Opcional pero recomendado antes de to_sql)\n",
    "if the_grammy_awards_clean is not None:\n",
    "    logging.info(\"Optimizando tipos de datos en Pandas...\")\n",
    "    try:\n",
    "        # Convertir columnas de texto a 'string' de pandas (más eficiente que 'object')\n",
    "        for col in ['title', 'category', 'nominee', 'artist', 'workers', 'img']:\n",
    "             if col in the_grammy_awards_clean.columns:\n",
    "                 the_grammy_awards_clean[col] = the_grammy_awards_clean[col].astype('string')\n",
    "        logging.info(\"Columnas de texto convertidas a tipo 'string' de Pandas.\")\n",
    "    except Exception as e:\n",
    "        logging.warning(f\"No se pudieron convertir todas las columnas a 'string': {e}\")"
   ]
  },
  {
   "cell_type": "code",
   "execution_count": 10,
   "metadata": {},
   "outputs": [
    {
     "name": "stderr",
     "output_type": "stream",
     "text": [
      "2025-04-10 23:59:07,707 - INFO - \n",
      "--- Verificación del DataFrame Limpio ('the_grammy_awards_clean') ---\n"
     ]
    },
    {
     "name": "stdout",
     "output_type": "stream",
     "text": [
      "\n",
      "Primeras filas del DataFrame limpio:\n"
     ]
    },
    {
     "data": {
      "text/html": [
       "<div>\n",
       "<style scoped>\n",
       "    .dataframe tbody tr th:only-of-type {\n",
       "        vertical-align: middle;\n",
       "    }\n",
       "\n",
       "    .dataframe tbody tr th {\n",
       "        vertical-align: top;\n",
       "    }\n",
       "\n",
       "    .dataframe thead th {\n",
       "        text-align: right;\n",
       "    }\n",
       "</style>\n",
       "<table border=\"1\" class=\"dataframe\">\n",
       "  <thead>\n",
       "    <tr style=\"text-align: right;\">\n",
       "      <th></th>\n",
       "      <th>year</th>\n",
       "      <th>title</th>\n",
       "      <th>published_at</th>\n",
       "      <th>updated_at</th>\n",
       "      <th>category</th>\n",
       "      <th>nominee</th>\n",
       "      <th>artist</th>\n",
       "      <th>workers</th>\n",
       "      <th>img</th>\n",
       "      <th>winner</th>\n",
       "    </tr>\n",
       "  </thead>\n",
       "  <tbody>\n",
       "    <tr>\n",
       "      <th>0</th>\n",
       "      <td>2019</td>\n",
       "      <td>62nd Annual GRAMMY Awards  (2019)</td>\n",
       "      <td>2020-05-19 12:10:28+00:00</td>\n",
       "      <td>2020-05-19 12:10:28+00:00</td>\n",
       "      <td>Record Of The Year</td>\n",
       "      <td>Bad Guy</td>\n",
       "      <td>Billie Eilish</td>\n",
       "      <td>Finneas O'Connell, producer; Rob Kinelski &amp; Fi...</td>\n",
       "      <td>https://www.grammy.com/sites/com/files/styles/...</td>\n",
       "      <td>True</td>\n",
       "    </tr>\n",
       "    <tr>\n",
       "      <th>1</th>\n",
       "      <td>2019</td>\n",
       "      <td>62nd Annual GRAMMY Awards  (2019)</td>\n",
       "      <td>2020-05-19 12:10:28+00:00</td>\n",
       "      <td>2020-05-19 12:10:28+00:00</td>\n",
       "      <td>Record Of The Year</td>\n",
       "      <td>Hey, Ma</td>\n",
       "      <td>Bon Iver</td>\n",
       "      <td>BJ Burton, Brad Cook, Chris Messina &amp; Justin V...</td>\n",
       "      <td>https://www.grammy.com/sites/com/files/styles/...</td>\n",
       "      <td>True</td>\n",
       "    </tr>\n",
       "    <tr>\n",
       "      <th>2</th>\n",
       "      <td>2019</td>\n",
       "      <td>62nd Annual GRAMMY Awards  (2019)</td>\n",
       "      <td>2020-05-19 12:10:28+00:00</td>\n",
       "      <td>2020-05-19 12:10:28+00:00</td>\n",
       "      <td>Record Of The Year</td>\n",
       "      <td>7 rings</td>\n",
       "      <td>Ariana Grande</td>\n",
       "      <td>Charles Anderson, Tommy Brown, Michael Foster ...</td>\n",
       "      <td>https://www.grammy.com/sites/com/files/styles/...</td>\n",
       "      <td>True</td>\n",
       "    </tr>\n",
       "    <tr>\n",
       "      <th>3</th>\n",
       "      <td>2019</td>\n",
       "      <td>62nd Annual GRAMMY Awards  (2019)</td>\n",
       "      <td>2020-05-19 12:10:28+00:00</td>\n",
       "      <td>2020-05-19 12:10:28+00:00</td>\n",
       "      <td>Record Of The Year</td>\n",
       "      <td>Hard Place</td>\n",
       "      <td>H.E.R.</td>\n",
       "      <td>Rodney “Darkchild” Jerkins, producer; Joseph H...</td>\n",
       "      <td>https://www.grammy.com/sites/com/files/styles/...</td>\n",
       "      <td>True</td>\n",
       "    </tr>\n",
       "    <tr>\n",
       "      <th>4</th>\n",
       "      <td>2019</td>\n",
       "      <td>62nd Annual GRAMMY Awards  (2019)</td>\n",
       "      <td>2020-05-19 12:10:28+00:00</td>\n",
       "      <td>2020-05-19 12:10:28+00:00</td>\n",
       "      <td>Record Of The Year</td>\n",
       "      <td>Talk</td>\n",
       "      <td>Khalid</td>\n",
       "      <td>Disclosure &amp; Denis Kosiak, producers; Ingmar C...</td>\n",
       "      <td>https://www.grammy.com/sites/com/files/styles/...</td>\n",
       "      <td>True</td>\n",
       "    </tr>\n",
       "  </tbody>\n",
       "</table>\n",
       "</div>"
      ],
      "text/plain": [
       "   year                              title              published_at  \\\n",
       "0  2019  62nd Annual GRAMMY Awards  (2019) 2020-05-19 12:10:28+00:00   \n",
       "1  2019  62nd Annual GRAMMY Awards  (2019) 2020-05-19 12:10:28+00:00   \n",
       "2  2019  62nd Annual GRAMMY Awards  (2019) 2020-05-19 12:10:28+00:00   \n",
       "3  2019  62nd Annual GRAMMY Awards  (2019) 2020-05-19 12:10:28+00:00   \n",
       "4  2019  62nd Annual GRAMMY Awards  (2019) 2020-05-19 12:10:28+00:00   \n",
       "\n",
       "                 updated_at            category     nominee         artist  \\\n",
       "0 2020-05-19 12:10:28+00:00  Record Of The Year     Bad Guy  Billie Eilish   \n",
       "1 2020-05-19 12:10:28+00:00  Record Of The Year     Hey, Ma       Bon Iver   \n",
       "2 2020-05-19 12:10:28+00:00  Record Of The Year     7 rings  Ariana Grande   \n",
       "3 2020-05-19 12:10:28+00:00  Record Of The Year  Hard Place         H.E.R.   \n",
       "4 2020-05-19 12:10:28+00:00  Record Of The Year        Talk         Khalid   \n",
       "\n",
       "                                             workers  \\\n",
       "0  Finneas O'Connell, producer; Rob Kinelski & Fi...   \n",
       "1  BJ Burton, Brad Cook, Chris Messina & Justin V...   \n",
       "2  Charles Anderson, Tommy Brown, Michael Foster ...   \n",
       "3  Rodney “Darkchild” Jerkins, producer; Joseph H...   \n",
       "4  Disclosure & Denis Kosiak, producers; Ingmar C...   \n",
       "\n",
       "                                                 img  winner  \n",
       "0  https://www.grammy.com/sites/com/files/styles/...    True  \n",
       "1  https://www.grammy.com/sites/com/files/styles/...    True  \n",
       "2  https://www.grammy.com/sites/com/files/styles/...    True  \n",
       "3  https://www.grammy.com/sites/com/files/styles/...    True  \n",
       "4  https://www.grammy.com/sites/com/files/styles/...    True  "
      ]
     },
     "metadata": {},
     "output_type": "display_data"
    },
    {
     "name": "stdout",
     "output_type": "stream",
     "text": [
      "\n",
      "Información del DataFrame limpio (tipos en Pandas):\n",
      "<class 'pandas.core.frame.DataFrame'>\n",
      "Index: 4804 entries, 0 to 4809\n",
      "Data columns (total 10 columns):\n",
      " #   Column        Non-Null Count  Dtype              \n",
      "---  ------        --------------  -----              \n",
      " 0   year          4804 non-null   int64              \n",
      " 1   title         4804 non-null   string             \n",
      " 2   published_at  4804 non-null   datetime64[ns, UTC]\n",
      " 3   updated_at    4804 non-null   datetime64[ns, UTC]\n",
      " 4   category      4804 non-null   string             \n",
      " 5   nominee       4804 non-null   string             \n",
      " 6   artist        4804 non-null   string             \n",
      " 7   workers       4804 non-null   string             \n",
      " 8   img           4804 non-null   string             \n",
      " 9   winner        4804 non-null   bool               \n",
      "dtypes: bool(1), datetime64[ns, UTC](2), int64(1), string(6)\n",
      "memory usage: 380.0 KB\n",
      "\n",
      "Conteo de nulos por columna en el DataFrame limpio:\n"
     ]
    },
    {
     "data": {
      "text/plain": [
       "year            0\n",
       "title           0\n",
       "published_at    0\n",
       "updated_at      0\n",
       "category        0\n",
       "nominee         0\n",
       "artist          0\n",
       "workers         0\n",
       "img             0\n",
       "winner          0\n",
       "dtype: int64"
      ]
     },
     "metadata": {},
     "output_type": "display_data"
    }
   ],
   "source": [
    "# Celda 10: Verificación Final del DataFrame Limpio\n",
    "if the_grammy_awards_clean is not None:\n",
    "    logging.info(\"\\n--- Verificación del DataFrame Limpio ('the_grammy_awards_clean') ---\")\n",
    "    print(\"\\nPrimeras filas del DataFrame limpio:\")\n",
    "    display(the_grammy_awards_clean.head())\n",
    "    print(\"\\nInformación del DataFrame limpio (tipos en Pandas):\")\n",
    "    # Mostrar info para ver los tipos de Pandas actualizados\n",
    "    the_grammy_awards_clean.info()\n",
    "    print(\"\\nConteo de nulos por columna en el DataFrame limpio:\")\n",
    "    display(the_grammy_awards_clean.isnull().sum())"
   ]
  },
  {
   "cell_type": "code",
   "execution_count": 11,
   "metadata": {},
   "outputs": [
    {
     "name": "stderr",
     "output_type": "stream",
     "text": [
      "2025-04-10 23:59:07,751 - INFO - Cargando DataFrame limpio a la tabla 'the_grammy_awards_clean' en la base de datos 'artists' con tipos explícitos...\n",
      "2025-04-10 23:59:08,603 - INFO - DataFrame limpio cargado exitosamente en la tabla 'the_grammy_awards_clean'.\n",
      "2025-04-10 23:59:08,604 - INFO - Verificando número de filas en la tabla 'the_grammy_awards_clean'...\n",
      "2025-04-10 23:59:08,607 - INFO - Número de filas en la tabla limpia 'the_grammy_awards_clean': 4804\n",
      "2025-04-10 23:59:08,607 - INFO - Número de filas en el DataFrame limpio: 4804\n",
      "2025-04-10 23:59:08,607 - INFO - ¡Verificación de carga exitosa!\n",
      "2025-04-10 23:59:08,608 - INFO - --- Proceso de Limpieza y Carga Finalizado ---\n"
     ]
    }
   ],
   "source": [
    "# Celda 11: Carga del DataFrame Limpio a PostgreSQL con TIPOS SQL EXPLÍCITOS\n",
    "if the_grammy_awards_clean is not None and engine is not None:\n",
    "\n",
    "    # --- Definir los tipos de datos SQL deseados ---\n",
    "    # Basado en tu solicitud y buenas prácticas\n",
    "    sql_types = {\n",
    "        'year': Integer(),                      # int64\n",
    "        'title': Text(),                        # string (Pandas) -> TEXT (SQL)\n",
    "        'published_at': TIMESTAMP(timezone=True),# datetime64[ns, UTC] -> TIMESTAMP WITH TIME ZONE\n",
    "        'updated_at': TIMESTAMP(timezone=True),  # datetime64[ns, UTC] -> TIMESTAMP WITH TIME ZONE\n",
    "        'category': Text(),                     # string (Pandas) -> TEXT\n",
    "        'nominee': Text(),                      # string (Pandas) -> TEXT\n",
    "        'artist': Text(),                       # string (Pandas) -> TEXT\n",
    "        'workers': Text(),                      # string (Pandas) -> TEXT (VARCHAR podría truncar)\n",
    "        'img': Text(),                          # string (Pandas) -> TEXT (VARCHAR(2083) o más si prefieres)\n",
    "        'winner': Boolean()                     # bool -> BOOLEAN\n",
    "    }\n",
    "    # -------------------------------------------\n",
    "\n",
    "    logging.info(f\"Cargando DataFrame limpio a la tabla '{CLEAN_TABLE_NAME}' en la base de datos '{DB_NAME}' con tipos explícitos...\")\n",
    "    try:\n",
    "        the_grammy_awards_clean.to_sql(\n",
    "            CLEAN_TABLE_NAME,\n",
    "            con=engine,\n",
    "            if_exists='replace',\n",
    "            index=False,\n",
    "            method='multi',\n",
    "            dtype=sql_types\n",
    "        )\n",
    "        logging.info(f\"DataFrame limpio cargado exitosamente en la tabla '{CLEAN_TABLE_NAME}'.\")\n",
    "\n",
    "        # Verificación final en la base de datos\n",
    "        logging.info(f\"Verificando número de filas en la tabla '{CLEAN_TABLE_NAME}'...\")\n",
    "        with engine.connect() as connection:\n",
    "            query_count = text(f\"SELECT COUNT(*) FROM \\\"{CLEAN_TABLE_NAME}\\\"\")\n",
    "            result = connection.execute(query_count)\n",
    "            num_db_clean_rows = result.scalar_one()\n",
    "\n",
    "        logging.info(f\"Número de filas en la tabla limpia '{CLEAN_TABLE_NAME}': {num_db_clean_rows}\")\n",
    "        logging.info(f\"Número de filas en el DataFrame limpio: {len(the_grammy_awards_clean)}\")\n",
    "\n",
    "        if len(the_grammy_awards_clean) == num_db_clean_rows:\n",
    "            logging.info(\"¡Verificación de carga exitosa!\")\n",
    "        else:\n",
    "            logging.warning(\"Discrepancia en el número de filas entre el DataFrame limpio y la tabla cargada.\")\n",
    "\n",
    "    except Exception as e:\n",
    "        logging.error(f\"Error al cargar el DataFrame limpio en la base de datos: {e}\")\n",
    "\n",
    "elif the_grammy_awards_clean is None:\n",
    "     logging.error(\"No se puede cargar la tabla limpia porque el DataFrame 'the_grammy_awards_clean' no está definido.\")\n",
    "elif engine is None:\n",
    "     logging.error(\"No se puede cargar la tabla limpia porque la conexión a la base de datos (engine) no está definida.\")\n",
    "\n",
    "\n",
    "logging.info(\"--- Proceso de Limpieza y Carga Finalizado ---\")"
   ]
  }
 ],
 "metadata": {
  "kernelspec": {
   "display_name": ".venv",
   "language": "python",
   "name": "python3"
  },
  "language_info": {
   "codemirror_mode": {
    "name": "ipython",
    "version": 3
   },
   "file_extension": ".py",
   "mimetype": "text/x-python",
   "name": "python",
   "nbconvert_exporter": "python",
   "pygments_lexer": "ipython3",
   "version": "3.10.12"
  }
 },
 "nbformat": 4,
 "nbformat_minor": 2
}
