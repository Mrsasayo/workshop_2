{
 "cells": [
  {
   "cell_type": "code",
   "execution_count": 1,
   "metadata": {},
   "outputs": [],
   "source": [
    "import os\n",
    "import pandas as pd\n",
    "import psycopg2\n",
    "from psycopg2 import sql\n",
    "from psycopg2.extensions import ISOLATION_LEVEL_AUTOCOMMIT\n",
    "from sqlalchemy import create_engine, text\n",
    "from dotenv import load_dotenv\n",
    "import logging\n"
   ]
  },
  {
   "cell_type": "code",
   "execution_count": 2,
   "metadata": {},
   "outputs": [],
   "source": [
    "logging.basicConfig(level=logging.INFO, format='%(asctime)s - %(levelname)s - %(message)s')"
   ]
  },
  {
   "cell_type": "markdown",
   "metadata": {},
   "source": [
    "Celda 2: Carga de variables de entorno y definición de constantes\n"
   ]
  },
  {
   "cell_type": "code",
   "execution_count": 3,
   "metadata": {},
   "outputs": [
    {
     "name": "stderr",
     "output_type": "stream",
     "text": [
      "2025-04-10 23:58:36,456 - INFO - Cargando variables de entorno...\n",
      "2025-04-10 23:58:36,459 - INFO - Variables cargadas: DB_HOST=localhost, DB_PORT=5432, DB_NAME=artists, DB_USER=postgres\n"
     ]
    }
   ],
   "source": [
    "logging.info(\"Cargando variables de entorno...\")\n",
    "dotenv_path = '/home/nicolas/Escritorio/workshops/workshop_2/env/.env'\n",
    "load_dotenv(dotenv_path=dotenv_path)\n",
    "\n",
    "DB_USER = os.getenv('POSTGRES_USER')\n",
    "DB_PASSWORD = os.getenv('POSTGRES_PASSWORD')\n",
    "DB_HOST = os.getenv('POSTGRES_HOST')\n",
    "DB_PORT = os.getenv('POSTGRES_PORT')\n",
    "DB_NAME = os.getenv('POSTGRES_DB')\n",
    "DEFAULT_DB = 'postgres' \n",
    "\n",
    "CSV_FILE_PATH = '/home/nicolas/Escritorio/workshops/workshop_2/data/the_grammy_awards.csv'\n",
    "TABLE_NAME = 'the_grammy_awards'\n",
    "\n",
    "logging.info(f\"Variables cargadas: DB_HOST={DB_HOST}, DB_PORT={DB_PORT}, DB_NAME={DB_NAME}, DB_USER={DB_USER}\")\n",
    "if not all([DB_USER, DB_PASSWORD, DB_HOST, DB_PORT, DB_NAME]):\n",
    "    logging.error(\"Una o más variables de entorno no están definidas correctamente en \" + dotenv_path)"
   ]
  },
  {
   "cell_type": "code",
   "execution_count": 4,
   "metadata": {},
   "outputs": [
    {
     "name": "stderr",
     "output_type": "stream",
     "text": [
      "2025-04-10 23:58:36,468 - INFO - Intentando conectar a la base de datos por defecto 'postgres' para verificar/crear 'artists'...\n",
      "WARNING:  la base de datos «postgres» tiene una discordancia de versión de ordenamiento (“collation”)\n",
      "DETAIL:  La base de datos fue creada usando la versión de ordenamiento 2.31, pero el sistema operativo provee la versión 2.35.\n",
      "HINT:  Reconstruya todos los objetos en esta base de datos que usen el ordenamiento por omisión y ejecute ALTER DATABASE postgres REFRESH COLLATION VERSION, o construya PostgreSQL con la versión correcta de la biblioteca.\n",
      "2025-04-10 23:58:36,492 - INFO - La base de datos 'artists' ya existe.\n",
      "2025-04-10 23:58:36,492 - INFO - Cursor de la conexión por defecto cerrado.\n",
      "2025-04-10 23:58:36,493 - INFO - Conexión a la base de datos por defecto cerrada.\n"
     ]
    }
   ],
   "source": [
    "conn_default = None\n",
    "cursor_default = None\n",
    "try:\n",
    "    logging.info(f\"Intentando conectar a la base de datos por defecto '{DEFAULT_DB}' para verificar/crear '{DB_NAME}'...\")\n",
    "    conn_default = psycopg2.connect(\n",
    "        dbname=DEFAULT_DB,\n",
    "        user=DB_USER,\n",
    "        password=DB_PASSWORD,\n",
    "        host=DB_HOST,\n",
    "        port=DB_PORT\n",
    "    )\n",
    "    conn_default.set_isolation_level(ISOLATION_LEVEL_AUTOCOMMIT)\n",
    "    cursor_default = conn_default.cursor()\n",
    "\n",
    "    cursor_default.execute(sql.SQL(\"SELECT 1 FROM pg_database WHERE datname = %s\"), (DB_NAME,))\n",
    "    exists = cursor_default.fetchone()\n",
    "\n",
    "    if not exists:\n",
    "        logging.info(f\"La base de datos '{DB_NAME}' no existe. Creándola...\")\n",
    "        cursor_default.execute(sql.SQL(f\"CREATE DATABASE {DB_NAME}\"))\n",
    "        logging.info(f\"Base de datos '{DB_NAME}' creada exitosamente.\")\n",
    "    else:\n",
    "        logging.info(f\"La base de datos '{DB_NAME}' ya existe.\")\n",
    "\n",
    "except psycopg2.Error as e:\n",
    "    logging.error(f\"Error al conectar o verificar/crear la base de datos '{DB_NAME}': {e}\")\n",
    "except Exception as e:\n",
    "    logging.error(f\"Ocurrió un error inesperado durante la verificación/creación de la base de datos: {e}\")\n",
    "finally:\n",
    "    if cursor_default:\n",
    "        cursor_default.close()\n",
    "        logging.info(\"Cursor de la conexión por defecto cerrado.\")\n",
    "    if conn_default:\n",
    "        conn_default.close()\n",
    "        logging.info(\"Conexión a la base de datos por defecto cerrada.\")"
   ]
  },
  {
   "cell_type": "markdown",
   "metadata": {},
   "source": [
    "Celda 4: Cargar datos desde el archivo CSV a un DataFrame de Pandas"
   ]
  },
  {
   "cell_type": "code",
   "execution_count": 5,
   "metadata": {},
   "outputs": [
    {
     "name": "stderr",
     "output_type": "stream",
     "text": [
      "2025-04-10 23:58:36,499 - INFO - Cargando datos desde /home/nicolas/Escritorio/workshops/workshop_2/data/the_grammy_awards.csv...\n",
      "2025-04-10 23:58:36,523 - INFO - Archivo CSV cargado exitosamente. Número de filas: 4810\n",
      "2025-04-10 23:58:36,523 - INFO - Primeras 5 filas del DataFrame:\n",
      "2025-04-10 23:58:36,529 - INFO - Información del DataFrame:\n"
     ]
    },
    {
     "name": "stdout",
     "output_type": "stream",
     "text": [
      "|   year | title                             | published_at              | updated_at                | category           | nominee    | artist        | workers                                                                                                                                                                                       | img                                                                                                                                           | winner   |\n",
      "|-------:|:----------------------------------|:--------------------------|:--------------------------|:-------------------|:-----------|:--------------|:----------------------------------------------------------------------------------------------------------------------------------------------------------------------------------------------|:----------------------------------------------------------------------------------------------------------------------------------------------|:---------|\n",
      "|   2019 | 62nd Annual GRAMMY Awards  (2019) | 2020-05-19T05:10:28-07:00 | 2020-05-19T05:10:28-07:00 | Record Of The Year | Bad Guy    | Billie Eilish | Finneas O'Connell, producer; Rob Kinelski & Finneas O'Connell, engineers/mixers; John Greenham, mastering engineer                                                                            | https://www.grammy.com/sites/com/files/styles/artist_circle/public/muzooka/Billie%2BEilish/Billie%2520Eilish_1_1_1594138954.jpg?itok=3-71Dfxh | True     |\n",
      "|   2019 | 62nd Annual GRAMMY Awards  (2019) | 2020-05-19T05:10:28-07:00 | 2020-05-19T05:10:28-07:00 | Record Of The Year | Hey, Ma    | Bon Iver      | BJ Burton, Brad Cook, Chris Messina & Justin Vernon, producers; BJ Burton, Zach Hanson & Chris Messina, engineers/mixers; Greg Calbi, mastering engineer                                      | https://www.grammy.com/sites/com/files/styles/artist_circle/public/muzooka/Bon%2BIver/Bon%2520Iver_1_1_1578385181.jpg?itok=_M1hc5Ux           | True     |\n",
      "|   2019 | 62nd Annual GRAMMY Awards  (2019) | 2020-05-19T05:10:28-07:00 | 2020-05-19T05:10:28-07:00 | Record Of The Year | 7 rings    | Ariana Grande | Charles Anderson, Tommy Brown, Michael Foster & Victoria Monet, producers; Serban Ghenea, John Hanes, Billy Hickey & Brendan Morawski, engineers/mixers; Randy Merrill, mastering engineer    | https://www.grammy.com/sites/com/files/styles/artist_circle/public/muzooka/Ariana%2BGrande/Ariana%2520Grande_1_1_1578384678.jpg?itok=Amj90j13 | True     |\n",
      "|   2019 | 62nd Annual GRAMMY Awards  (2019) | 2020-05-19T05:10:28-07:00 | 2020-05-19T05:10:28-07:00 | Record Of The Year | Hard Place | H.E.R.        | Rodney “Darkchild” Jerkins, producer; Joseph Hurtado, Jaycen Joshua, Derek Keota & Miki Tsutsumi, engineers/mixers; Colin Leonard, mastering engineer                                         | https://www.grammy.com/sites/com/files/styles/artist_circle/public/muzooka/H.E.R./H.E.R._1_1_1594631035.jpg?itok=ClJe-2MN                     | True     |\n",
      "|   2019 | 62nd Annual GRAMMY Awards  (2019) | 2020-05-19T05:10:28-07:00 | 2020-05-19T05:10:28-07:00 | Record Of The Year | Talk       | Khalid        | Disclosure & Denis Kosiak, producers; Ingmar Carlson, Jon Castelli, Josh Deguzman, John Kercy, Denis Kosiak, Guy Lawrence & Michael Romero, engineers/mixers; Dale Becker, mastering engineer | https://www.grammy.com/sites/com/files/styles/artist_circle/public/muzooka/Khalid/Khalid_1_1_1594578772.jpg?itok=2HxjAT-X                     | True     |\n",
      "<class 'pandas.core.frame.DataFrame'>\n",
      "RangeIndex: 4810 entries, 0 to 4809\n",
      "Data columns (total 10 columns):\n",
      " #   Column        Non-Null Count  Dtype \n",
      "---  ------        --------------  ----- \n",
      " 0   year          4810 non-null   int64 \n",
      " 1   title         4810 non-null   object\n",
      " 2   published_at  4810 non-null   object\n",
      " 3   updated_at    4810 non-null   object\n",
      " 4   category      4810 non-null   object\n",
      " 5   nominee       4804 non-null   object\n",
      " 6   artist        2970 non-null   object\n",
      " 7   workers       2620 non-null   object\n",
      " 8   img           3443 non-null   object\n",
      " 9   winner        4810 non-null   bool  \n",
      "dtypes: bool(1), int64(1), object(8)\n",
      "memory usage: 343.0+ KB\n"
     ]
    }
   ],
   "source": [
    "# Celda 4: Cargar datos desde el archivo CSV a un DataFrame de Pandas\n",
    "logging.info(f\"Cargando datos desde {CSV_FILE_PATH}...\")\n",
    "try:\n",
    "    df = pd.read_csv(CSV_FILE_PATH)\n",
    "    num_csv_rows = len(df)\n",
    "    logging.info(f\"Archivo CSV cargado exitosamente. Número de filas: {num_csv_rows}\")\n",
    "    logging.info(\"Primeras 5 filas del DataFrame:\")\n",
    "    print(df.head().to_markdown(index=False)) # Imprime las primeras filas en formato Markdown\n",
    "    logging.info(\"Información del DataFrame:\")\n",
    "    df.info()\n",
    "\n",
    "except FileNotFoundError:\n",
    "    logging.error(f\"Error: El archivo CSV no se encontró en la ruta: {CSV_FILE_PATH}\")\n",
    "    # Detener la ejecución si el archivo no existe\n",
    "    raise\n",
    "except Exception as e:\n",
    "    logging.error(f\"Error al leer el archivo CSV: {e}\")\n",
    "    raise"
   ]
  },
  {
   "cell_type": "markdown",
   "metadata": {},
   "source": [
    "Celda 5: Conectar a la base de datos 'artists' y cargar el DataFrame\n"
   ]
  },
  {
   "cell_type": "code",
   "execution_count": 6,
   "metadata": {},
   "outputs": [
    {
     "name": "stderr",
     "output_type": "stream",
     "text": [
      "2025-04-10 23:58:36,546 - INFO - Creando motor SQLAlchemy para la base de datos 'artists'...\n",
      "2025-04-10 23:58:36,567 - INFO - Conectando a 'artists' y cargando el DataFrame en la tabla 'the_grammy_awards'...\n",
      "2025-04-10 23:58:37,424 - INFO - DataFrame cargado exitosamente en la tabla 'the_grammy_awards'.\n"
     ]
    }
   ],
   "source": [
    "engine = None\n",
    "try:\n",
    "    logging.info(f\"Creando motor SQLAlchemy para la base de datos '{DB_NAME}'...\")\n",
    "    # Crear la URL de conexión para SQLAlchemy\n",
    "    db_url = f'postgresql+psycopg2://{DB_USER}:{DB_PASSWORD}@{DB_HOST}:{DB_PORT}/{DB_NAME}'\n",
    "    engine = create_engine(db_url)\n",
    "\n",
    "    logging.info(f\"Conectando a '{DB_NAME}' y cargando el DataFrame en la tabla '{TABLE_NAME}'...\")\n",
    "    # Cargar el DataFrame en la tabla 'the_grammy_awards'\n",
    "    # if_exists='replace' borrará la tabla si existe y la creará de nuevo.\n",
    "    # Usa 'append' si quieres añadir datos a una tabla existente.\n",
    "    df.to_sql(TABLE_NAME, con=engine, if_exists='replace', index=False, method='multi')\n",
    "    logging.info(f\"DataFrame cargado exitosamente en la tabla '{TABLE_NAME}'.\")\n",
    "\n",
    "except Exception as e:\n",
    "    logging.error(f\"Error al cargar el DataFrame en la base de datos: {e}\")\n",
    "    # Considera si quieres detener la ejecución aquí\n",
    "    raise\n",
    "# No cerramos explícitamente el engine aquí, SQLAlchemy maneja el pool de conexiones.\n",
    "# Si necesitaras cerrar todas las conexiones del pool, podrías usar engine.dispose()"
   ]
  },
  {
   "cell_type": "markdown",
   "metadata": {},
   "source": [
    "Celda 6: Verificar la carga de datos\n"
   ]
  },
  {
   "cell_type": "code",
   "execution_count": 7,
   "metadata": {},
   "outputs": [
    {
     "name": "stderr",
     "output_type": "stream",
     "text": [
      "2025-04-10 23:58:37,431 - INFO - Verificando la carga en la tabla 'the_grammy_awards'...\n",
      "2025-04-10 23:58:37,434 - INFO - Número de filas en la tabla 'the_grammy_awards': 4810\n",
      "2025-04-10 23:58:37,435 - INFO - ¡Verificación exitosa! El número de filas coincide entre el CSV y la base de datos.\n",
      "2025-04-10 23:58:37,435 - INFO - Script finalizado.\n"
     ]
    }
   ],
   "source": [
    "if engine:\n",
    "    try:\n",
    "        logging.info(f\"Verificando la carga en la tabla '{TABLE_NAME}'...\")\n",
    "        with engine.connect() as connection:\n",
    "            query = text(f\"SELECT COUNT(*) FROM {TABLE_NAME}\")\n",
    "            result = connection.execute(query)\n",
    "            num_db_rows = result.scalar_one()\n",
    "\n",
    "        logging.info(f\"Número de filas en la tabla '{TABLE_NAME}': {num_db_rows}\")\n",
    "\n",
    "        if num_csv_rows == num_db_rows:\n",
    "            logging.info(\"¡Verificación exitosa! El número de filas coincide entre el CSV y la base de datos.\")\n",
    "        else:\n",
    "            logging.warning(f\"Discrepancia en el número de filas: CSV ({num_csv_rows}) vs DB ({num_db_rows}).\")\n",
    "\n",
    "    except Exception as e:\n",
    "        logging.error(f\"Error durante la verificación de la carga: {e}\")\n",
    "else:\n",
    "    logging.error(\"No se pudo realizar la verificación porque la conexión a la base de datos falló previamente.\")\n",
    "\n",
    "logging.info(\"Script finalizado.\")"
   ]
  }
 ],
 "metadata": {
  "kernelspec": {
   "display_name": ".venv",
   "language": "python",
   "name": "python3"
  },
  "language_info": {
   "codemirror_mode": {
    "name": "ipython",
    "version": 3
   },
   "file_extension": ".py",
   "mimetype": "text/x-python",
   "name": "python",
   "nbconvert_exporter": "python",
   "pygments_lexer": "ipython3",
   "version": "3.10.12"
  }
 },
 "nbformat": 4,
 "nbformat_minor": 2
}
